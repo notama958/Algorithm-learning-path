{
  "nbformat": 4,
  "nbformat_minor": 0,
  "metadata": {
    "colab": {
      "provenance": [],
      "authorship_tag": "ABX9TyNnmoEPUONdzEkNEMVl29RZ",
      "include_colab_link": true
    },
    "kernelspec": {
      "name": "python3",
      "display_name": "Python 3"
    },
    "language_info": {
      "name": "python"
    }
  },
  "cells": [
    {
      "cell_type": "markdown",
      "metadata": {
        "id": "view-in-github",
        "colab_type": "text"
      },
      "source": [
        "<a href=\"https://colab.research.google.com/github/notama958/Algorithm-learning-path/blob/main/RSA.ipynb\" target=\"_parent\"><img src=\"https://colab.research.google.com/assets/colab-badge.svg\" alt=\"Open In Colab\"/></a>"
      ]
    },
    {
      "cell_type": "code",
      "source": [
        "\n",
        "def ConvertToInt(message_str):\n",
        "  res = 0\n",
        "  for i in range(len(message_str)):\n",
        "    res = res * 256 + ord(message_str[i])\n",
        "  return res\n",
        "\n",
        "def ConvertToStr(n):\n",
        "    res = \"\"\n",
        "    while n > 0:\n",
        "        res += chr(n % 256)\n",
        "        n //= 256\n",
        "    return res[::-1]\n",
        "\n",
        "def PowMod(a, n, mod):\n",
        "    if n == 0:\n",
        "        return 1 % mod\n",
        "    elif n == 1:\n",
        "        return a % mod\n",
        "    else:\n",
        "        b = PowMod(a, n // 2, mod)\n",
        "        b = b * b % mod\n",
        "        if n % 2 == 0:\n",
        "          return b\n",
        "        else:\n",
        "          return b * a % mod\n",
        "\n",
        "def ExtendedEuclid(a, b):\n",
        "    if b == 0:\n",
        "        return (1, 0)\n",
        "    (x, y) = ExtendedEuclid(b, a % b)\n",
        "    k = a // b\n",
        "    return (y, x - k * y)\n",
        "\n",
        "def InvertModulo(a, n):\n",
        "    (b, x) = ExtendedEuclid(a, n)\n",
        "    if b < 0:\n",
        "        b = (b % n + n) % n\n",
        "    return b\n",
        "\n",
        "def Decrypt(ciphertext, p, q, exponent):\n",
        "  n = p*q\n",
        "  d = InvertModulo(exponent,(p-1)*(q-1))\n",
        "  msg = PowMod(ciphertext, d, n)\n",
        "  return ConvertToStr(msg)\n",
        "\n",
        "def Encrypt(message, modulo, exponent):\n",
        "  mesgToInt = ConvertToInt(message)\n",
        "  mod = PowMod(mesgToInt, exponent, modulo)\n",
        "  return mod\n",
        "\n"
      ],
      "metadata": {
        "id": "j-SUCIl_lmYx"
      },
      "execution_count": 1,
      "outputs": []
    },
    {
      "cell_type": "markdown",
      "source": [
        "Secret agent Alice has sent one of the following messages to the center:\n",
        "\n",
        "\n",
        "*   attack\n",
        "*   don't attack\n",
        "*   wait\n"
      ],
      "metadata": {
        "id": "GCAwwJaMmYj0"
      }
    },
    {
      "cell_type": "code",
      "source": [
        "\n",
        "def DecipherSimple(ciphertext, modulo, exponent, potential_messages):\n",
        "  # Substitute this implementation with your code from question 3 of the \"RSA Quiz\".\n",
        "  for msg in potential_messages:\n",
        "        encryptedMsg = Encrypt(msg, modulo, exponent)\n",
        "        if ciphertext == encryptedMsg:\n",
        "            return msg\n",
        "  return \"don't know\"\n",
        "\n",
        "modulo = 101\n",
        "exponent = 12\n",
        "ciphertext = Encrypt(\"attack\", modulo, exponent)\n",
        "print(ciphertext)\n",
        "print(DecipherSimple(ciphertext, modulo, exponent, [\"attack\", \"don't attack\", \"wait\"]))"
      ],
      "metadata": {
        "colab": {
          "base_uri": "https://localhost:8080/"
        },
        "id": "7g34yqbhmcAb",
        "outputId": "d1622089-f8ba-45fa-9dd7-99fd11f23dfb"
      },
      "execution_count": 2,
      "outputs": [
        {
          "output_type": "stream",
          "name": "stdout",
          "text": [
            "78\n",
            "attack\n"
          ]
        }
      ]
    },
    {
      "cell_type": "markdown",
      "source": [
        "when one of the prime factors of the public modulo is smaller than 1,000,000."
      ],
      "metadata": {
        "id": "ol9En4DxnBjv"
      }
    },
    {
      "cell_type": "code",
      "source": [
        "def DecipherSmallPrime(ciphertext, modulo, exponent):\n",
        "    end = PowMod(modulo, 0.5, 1)\n",
        "    if modulo % 2 == 0:\n",
        "        p = 2\n",
        "        q = modulo // p  # Compute the other prime factor\n",
        "        plaintext = Decrypt(ciphertext, p, q, exponent)\n",
        "        ciphertext2 = Encrypt(plaintext, modulo, exponent)\n",
        "        if ciphertext == ciphertext2:\n",
        "            return plaintext\n",
        "    for p in range(3, 1000000, 2 ):\n",
        "        if modulo % p == 0:\n",
        "            q = modulo // p  # Compute the other prime factor\n",
        "            phi_n = (p - 1) * (q - 1)\n",
        "            plaintext = Decrypt(ciphertext, p, q, exponent)\n",
        "            ciphertext2 = Encrypt(plaintext, modulo, exponent);\n",
        "            if ciphertext == ciphertext2:\n",
        "                return plaintext\n",
        "    return \"don't know\"\n",
        "modulo = 101 * 18298970732541109011012304219376080251334480295537316123696052970419466495220522723330315111017831737980079504337868198011077274303193766040393009648852841770668239779097280026631944319501437547002412556176186750790476901358334138818777298389724049250700606462316428106882097210008142941838672676714188593227684360287806974345181893018133710957167334490627178666071809992955566020058374505477745993383434501768887090900283569055646901291270870833498474402084748161755197005050874785474707550376333429671113753137201128897550014524209754619355308207537703754006699795711188492048286436285518105948050401762394690148387\n",
        "exponent = 239\n",
        "ciphertext = Encrypt(\"attack\", modulo, exponent)\n",
        "print(ciphertext)\n",
        "print(DecipherSmallPrime(ciphertext, modulo, exponent))\n",
        "\n"
      ],
      "metadata": {
        "colab": {
          "base_uri": "https://localhost:8080/",
          "height": 411
        },
        "id": "oZFYRJrel5ln",
        "outputId": "6e121a32-60e4-4649-8ad9-00e2032ff0f0"
      },
      "execution_count": 4,
      "outputs": [
        {
          "output_type": "stream",
          "name": "stdout",
          "text": [
            "1773488865857950936127070415107286811735036786757360876488901668828411065415319121739305112809023074111043494948978081751851444797671426477224221428915534085499185651993502038149646686545099252921036161028865989784470806731700777521041215564203613423323285066203840329997825032261425978638927438518035030191944107572667758243311046550229409822846149831396410991755012812007339251536452615590635223780672174679677196279304461931703846255925914845500897273821827255506913276266523704922524156943959725369352703672131222283682166791913172292046709244906816668026610802197814114770298014914576347693504969280551524366327904\n"
          ]
        },
        {
          "output_type": "error",
          "ename": "RecursionError",
          "evalue": "maximum recursion depth exceeded in comparison",
          "traceback": [
            "\u001b[0;31m---------------------------------------------------------------------------\u001b[0m",
            "\u001b[0;31mRecursionError\u001b[0m                            Traceback (most recent call last)",
            "\u001b[0;32m<ipython-input-4-3308ac9ee995>\u001b[0m in \u001b[0;36m<cell line: 23>\u001b[0;34m()\u001b[0m\n\u001b[1;32m     21\u001b[0m \u001b[0mciphertext\u001b[0m \u001b[0;34m=\u001b[0m \u001b[0mEncrypt\u001b[0m\u001b[0;34m(\u001b[0m\u001b[0;34m\"attack\"\u001b[0m\u001b[0;34m,\u001b[0m \u001b[0mmodulo\u001b[0m\u001b[0;34m,\u001b[0m \u001b[0mexponent\u001b[0m\u001b[0;34m)\u001b[0m\u001b[0;34m\u001b[0m\u001b[0;34m\u001b[0m\u001b[0m\n\u001b[1;32m     22\u001b[0m \u001b[0mprint\u001b[0m\u001b[0;34m(\u001b[0m\u001b[0mciphertext\u001b[0m\u001b[0;34m)\u001b[0m\u001b[0;34m\u001b[0m\u001b[0;34m\u001b[0m\u001b[0m\n\u001b[0;32m---> 23\u001b[0;31m \u001b[0mprint\u001b[0m\u001b[0;34m(\u001b[0m\u001b[0mDecipherSmallPrime\u001b[0m\u001b[0;34m(\u001b[0m\u001b[0mciphertext\u001b[0m\u001b[0;34m,\u001b[0m \u001b[0mmodulo\u001b[0m\u001b[0;34m,\u001b[0m \u001b[0mexponent\u001b[0m\u001b[0;34m)\u001b[0m\u001b[0;34m)\u001b[0m\u001b[0;34m\u001b[0m\u001b[0;34m\u001b[0m\u001b[0m\n\u001b[0m\u001b[1;32m     24\u001b[0m \u001b[0;34m\u001b[0m\u001b[0m\n",
            "\u001b[0;32m<ipython-input-4-3308ac9ee995>\u001b[0m in \u001b[0;36mDecipherSmallPrime\u001b[0;34m(ciphertext, modulo, exponent)\u001b[0m\n\u001b[1;32m     12\u001b[0m             \u001b[0mq\u001b[0m \u001b[0;34m=\u001b[0m \u001b[0mmodulo\u001b[0m \u001b[0;34m//\u001b[0m \u001b[0mp\u001b[0m  \u001b[0;31m# Compute the other prime factor\u001b[0m\u001b[0;34m\u001b[0m\u001b[0;34m\u001b[0m\u001b[0m\n\u001b[1;32m     13\u001b[0m             \u001b[0mphi_n\u001b[0m \u001b[0;34m=\u001b[0m \u001b[0;34m(\u001b[0m\u001b[0mp\u001b[0m \u001b[0;34m-\u001b[0m \u001b[0;36m1\u001b[0m\u001b[0;34m)\u001b[0m \u001b[0;34m*\u001b[0m \u001b[0;34m(\u001b[0m\u001b[0mq\u001b[0m \u001b[0;34m-\u001b[0m \u001b[0;36m1\u001b[0m\u001b[0;34m)\u001b[0m\u001b[0;34m\u001b[0m\u001b[0;34m\u001b[0m\u001b[0m\n\u001b[0;32m---> 14\u001b[0;31m             \u001b[0mplaintext\u001b[0m \u001b[0;34m=\u001b[0m \u001b[0mDecrypt\u001b[0m\u001b[0;34m(\u001b[0m\u001b[0mciphertext\u001b[0m\u001b[0;34m,\u001b[0m \u001b[0mp\u001b[0m\u001b[0;34m,\u001b[0m \u001b[0mq\u001b[0m\u001b[0;34m,\u001b[0m \u001b[0mexponent\u001b[0m\u001b[0;34m)\u001b[0m\u001b[0;34m\u001b[0m\u001b[0;34m\u001b[0m\u001b[0m\n\u001b[0m\u001b[1;32m     15\u001b[0m             \u001b[0mciphertext2\u001b[0m \u001b[0;34m=\u001b[0m \u001b[0mEncrypt\u001b[0m\u001b[0;34m(\u001b[0m\u001b[0mplaintext\u001b[0m\u001b[0;34m,\u001b[0m \u001b[0mmodulo\u001b[0m\u001b[0;34m,\u001b[0m \u001b[0mexponent\u001b[0m\u001b[0;34m)\u001b[0m\u001b[0;34m;\u001b[0m\u001b[0;34m\u001b[0m\u001b[0;34m\u001b[0m\u001b[0m\n\u001b[1;32m     16\u001b[0m             \u001b[0;32mif\u001b[0m \u001b[0mciphertext\u001b[0m \u001b[0;34m==\u001b[0m \u001b[0mciphertext2\u001b[0m\u001b[0;34m:\u001b[0m\u001b[0;34m\u001b[0m\u001b[0;34m\u001b[0m\u001b[0m\n",
            "\u001b[0;32m<ipython-input-1-0f5894d82cca>\u001b[0m in \u001b[0;36mDecrypt\u001b[0;34m(ciphertext, p, q, exponent)\u001b[0m\n\u001b[1;32m     41\u001b[0m   \u001b[0mn\u001b[0m \u001b[0;34m=\u001b[0m \u001b[0mp\u001b[0m\u001b[0;34m*\u001b[0m\u001b[0mq\u001b[0m\u001b[0;34m\u001b[0m\u001b[0;34m\u001b[0m\u001b[0m\n\u001b[1;32m     42\u001b[0m   \u001b[0md\u001b[0m \u001b[0;34m=\u001b[0m \u001b[0mInvertModulo\u001b[0m\u001b[0;34m(\u001b[0m\u001b[0mexponent\u001b[0m\u001b[0;34m,\u001b[0m\u001b[0;34m(\u001b[0m\u001b[0mp\u001b[0m\u001b[0;34m-\u001b[0m\u001b[0;36m1\u001b[0m\u001b[0;34m)\u001b[0m\u001b[0;34m*\u001b[0m\u001b[0;34m(\u001b[0m\u001b[0mq\u001b[0m\u001b[0;34m-\u001b[0m\u001b[0;36m1\u001b[0m\u001b[0;34m)\u001b[0m\u001b[0;34m)\u001b[0m\u001b[0;34m\u001b[0m\u001b[0;34m\u001b[0m\u001b[0m\n\u001b[0;32m---> 43\u001b[0;31m   \u001b[0mmsg\u001b[0m \u001b[0;34m=\u001b[0m \u001b[0mPowMod\u001b[0m\u001b[0;34m(\u001b[0m\u001b[0mciphertext\u001b[0m\u001b[0;34m,\u001b[0m \u001b[0md\u001b[0m\u001b[0;34m,\u001b[0m \u001b[0mn\u001b[0m\u001b[0;34m)\u001b[0m\u001b[0;34m\u001b[0m\u001b[0;34m\u001b[0m\u001b[0m\n\u001b[0m\u001b[1;32m     44\u001b[0m   \u001b[0;32mreturn\u001b[0m \u001b[0mConvertToStr\u001b[0m\u001b[0;34m(\u001b[0m\u001b[0mmsg\u001b[0m\u001b[0;34m)\u001b[0m\u001b[0;34m\u001b[0m\u001b[0;34m\u001b[0m\u001b[0m\n\u001b[1;32m     45\u001b[0m \u001b[0;34m\u001b[0m\u001b[0m\n",
            "\u001b[0;32m<ipython-input-1-0f5894d82cca>\u001b[0m in \u001b[0;36mPowMod\u001b[0;34m(a, n, mod)\u001b[0m\n\u001b[1;32m     18\u001b[0m         \u001b[0;32mreturn\u001b[0m \u001b[0ma\u001b[0m \u001b[0;34m%\u001b[0m \u001b[0mmod\u001b[0m\u001b[0;34m\u001b[0m\u001b[0;34m\u001b[0m\u001b[0m\n\u001b[1;32m     19\u001b[0m     \u001b[0;32melse\u001b[0m\u001b[0;34m:\u001b[0m\u001b[0;34m\u001b[0m\u001b[0;34m\u001b[0m\u001b[0m\n\u001b[0;32m---> 20\u001b[0;31m         \u001b[0mb\u001b[0m \u001b[0;34m=\u001b[0m \u001b[0mPowMod\u001b[0m\u001b[0;34m(\u001b[0m\u001b[0ma\u001b[0m\u001b[0;34m,\u001b[0m \u001b[0mn\u001b[0m \u001b[0;34m//\u001b[0m \u001b[0;36m2\u001b[0m\u001b[0;34m,\u001b[0m \u001b[0mmod\u001b[0m\u001b[0;34m)\u001b[0m\u001b[0;34m\u001b[0m\u001b[0;34m\u001b[0m\u001b[0m\n\u001b[0m\u001b[1;32m     21\u001b[0m         \u001b[0mb\u001b[0m \u001b[0;34m=\u001b[0m \u001b[0mb\u001b[0m \u001b[0;34m*\u001b[0m \u001b[0mb\u001b[0m \u001b[0;34m%\u001b[0m \u001b[0mmod\u001b[0m\u001b[0;34m\u001b[0m\u001b[0;34m\u001b[0m\u001b[0m\n\u001b[1;32m     22\u001b[0m         \u001b[0;32mif\u001b[0m \u001b[0mn\u001b[0m \u001b[0;34m%\u001b[0m \u001b[0;36m2\u001b[0m \u001b[0;34m==\u001b[0m \u001b[0;36m0\u001b[0m\u001b[0;34m:\u001b[0m\u001b[0;34m\u001b[0m\u001b[0;34m\u001b[0m\u001b[0m\n",
            "... last 1 frames repeated, from the frame below ...\n",
            "\u001b[0;32m<ipython-input-1-0f5894d82cca>\u001b[0m in \u001b[0;36mPowMod\u001b[0;34m(a, n, mod)\u001b[0m\n\u001b[1;32m     18\u001b[0m         \u001b[0;32mreturn\u001b[0m \u001b[0ma\u001b[0m \u001b[0;34m%\u001b[0m \u001b[0mmod\u001b[0m\u001b[0;34m\u001b[0m\u001b[0;34m\u001b[0m\u001b[0m\n\u001b[1;32m     19\u001b[0m     \u001b[0;32melse\u001b[0m\u001b[0;34m:\u001b[0m\u001b[0;34m\u001b[0m\u001b[0;34m\u001b[0m\u001b[0m\n\u001b[0;32m---> 20\u001b[0;31m         \u001b[0mb\u001b[0m \u001b[0;34m=\u001b[0m \u001b[0mPowMod\u001b[0m\u001b[0;34m(\u001b[0m\u001b[0ma\u001b[0m\u001b[0;34m,\u001b[0m \u001b[0mn\u001b[0m \u001b[0;34m//\u001b[0m \u001b[0;36m2\u001b[0m\u001b[0;34m,\u001b[0m \u001b[0mmod\u001b[0m\u001b[0;34m)\u001b[0m\u001b[0;34m\u001b[0m\u001b[0;34m\u001b[0m\u001b[0m\n\u001b[0m\u001b[1;32m     21\u001b[0m         \u001b[0mb\u001b[0m \u001b[0;34m=\u001b[0m \u001b[0mb\u001b[0m \u001b[0;34m*\u001b[0m \u001b[0mb\u001b[0m \u001b[0;34m%\u001b[0m \u001b[0mmod\u001b[0m\u001b[0;34m\u001b[0m\u001b[0;34m\u001b[0m\u001b[0m\n\u001b[1;32m     22\u001b[0m         \u001b[0;32mif\u001b[0m \u001b[0mn\u001b[0m \u001b[0;34m%\u001b[0m \u001b[0;36m2\u001b[0m \u001b[0;34m==\u001b[0m \u001b[0;36m0\u001b[0m\u001b[0;34m:\u001b[0m\u001b[0;34m\u001b[0m\u001b[0;34m\u001b[0m\u001b[0m\n",
            "\u001b[0;31mRecursionError\u001b[0m: maximum recursion depth exceeded in comparison"
          ]
        }
      ]
    },
    {
      "cell_type": "markdown",
      "source": [
        "When the |p-q| < 5000"
      ],
      "metadata": {
        "id": "Fn41dYy_nQ91"
      }
    },
    {
      "cell_type": "code",
      "source": [
        "\n",
        "def IntSqrt(n):\n",
        "  low = 1\n",
        "  high = n\n",
        "  iterations = 0\n",
        "  while low < high and iterations < 5000:\n",
        "    iterations += 1\n",
        "    mid = (low + high + 1) // 2\n",
        "    if mid * mid <= n:\n",
        "      low = mid\n",
        "    else:\n",
        "      high = mid - 1\n",
        "  return low\n",
        "\n",
        "def DecipherSmallDiff(ciphertext, modulo, exponent):\n",
        "    nsrt = IntSqrt(modulo)\n",
        "    print(nsrt)\n",
        "    for p in range(nsrt - 5000 , nsrt + 1, 1 ):\n",
        "        if modulo % p == 0:\n",
        "            q = modulo // p  # Compute the other prime factor\n",
        "            phi_n = (p - 1) * (q - 1)\n",
        "            plaintext = Decrypt(ciphertext, p, q, exponent)\n",
        "            ciphertext2 = Encrypt(plaintext, modulo, exponent);\n",
        "            if ciphertext == ciphertext2:\n",
        "                return plaintext\n",
        "    return \"don't know\"\n",
        "\n",
        "\n",
        "p = 1000000007\n",
        "q = 1000000009\n",
        "n = p * q\n",
        "e = 239\n",
        "ciphertext = Encrypt(\"attack\", n, e)\n",
        "message = DecipherSmallDiff(ciphertext, n, e)\n",
        "print(ciphertext)\n",
        "print(message)\n",
        "\n"
      ],
      "metadata": {
        "id": "P9tJbqNsnPRP"
      },
      "execution_count": null,
      "outputs": []
    },
    {
      "cell_type": "markdown",
      "source": [
        "You've discovered that the first prime number p\n",
        "was generated with the same algorithm and the same random seed by two different senders Alice and Angelina due to insufficient randomness, while the second prime q\n",
        "q is different for those two private keys. You want to break both ciphers and decipher messages from both Alice and Angelina."
      ],
      "metadata": {
        "id": "rBpDaK8qmVJC"
      }
    },
    {
      "cell_type": "code",
      "source": [
        "def GCD(a, b):\n",
        "  if b == 0:\n",
        "    return a\n",
        "  return GCD(b, a % b)\n",
        "\n",
        "def DecipherCommonDivisor(first_ciphertext, first_modulo, first_exponent, second_ciphertext, second_modulo, second_exponent):\n",
        "    p = GCD( first_modulo, second_modulo )\n",
        "    if p == 1:\n",
        "        return (\"unknown message 1\", \"unknown message 2\")\n",
        "    q1= first_modulo // p\n",
        "    q2= second_modulo // p\n",
        "    return (Decrypt(first_ciphertext, p, q1, first_exponent), Decrypt(second_ciphertext, p, q2, second_exponent))\n",
        "\n",
        "# Example usage with common prime p and different second primes q1 and q2\n",
        "p = 101\n",
        "q1 = 18298970732541109011012304219376080251334480295537316123696052970419466495220522723330315111017831737980079504337868198011077274303193766040393009648852841770668239779097280026631944319501437547002412556176186750790476901358334138818777298389724049250700606462316428106882097210008142941838672676714188593227684360287806974345181893018133710957167334490627178666071809992955566020058374505477745993383434501768887090900283569055646901291270870833498474402084748161755197005050874785474707550376333429671113753137201128897550014524209754619355308207537703754006699795711188492048286436285518105948050401762394690148387\n",
        "q2 = 1000000007\n",
        "first_modulo = p * q1\n",
        "second_modulo = p * q2\n",
        "first_exponent = 239\n",
        "second_exponent = 17\n",
        "first_ciphertext = Encrypt(\"attack\", first_modulo, first_exponent)\n",
        "second_ciphertext = Encrypt(\"wait\", second_modulo, second_exponent)\n",
        "print(DecipherCommonDivisor(first_ciphertext, first_modulo, first_exponent, second_ciphertext, second_modulo, second_exponent))\n"
      ],
      "metadata": {
        "id": "dxhAHabYmF57"
      },
      "execution_count": null,
      "outputs": []
    },
    {
      "cell_type": "markdown",
      "source": [
        "Bob has sent the same message to Alice and Angelina using two different public keys with same exponent"
      ],
      "metadata": {
        "id": "aJZM9RRwn2hq"
      }
    },
    {
      "cell_type": "code",
      "source": [
        "\n",
        "def ChineseRemainderTheorem(n1, r1, n2, r2):\n",
        "  (x, y) = ExtendedEuclid(n1, n2)\n",
        "  return ((r2 * x * n1 + r1 * y * n2) % (n1 * n2) + (n1 * n2)) % (n1 * n2)\n",
        "\n",
        "def DecipherHastad(first_ciphertext, first_modulo, second_ciphertext, second_modulo):\n",
        "  r = ChineseRemainderTheorem(first_modulo, first_ciphertext, second_modulo, second_ciphertext)\n",
        "  m = IntSqrt(r)\n",
        "  return ConvertToStr(m)"
      ],
      "metadata": {
        "id": "s4XHRz--n23s"
      },
      "execution_count": null,
      "outputs": []
    }
  ]
}