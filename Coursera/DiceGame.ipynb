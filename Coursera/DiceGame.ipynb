{
  "nbformat": 4,
  "nbformat_minor": 0,
  "metadata": {
    "colab": {
      "provenance": [],
      "authorship_tag": "ABX9TyMQErKN0dfRHM4jAMUKlycY",
      "include_colab_link": true
    },
    "kernelspec": {
      "name": "python3",
      "display_name": "Python 3"
    },
    "language_info": {
      "name": "python"
    }
  },
  "cells": [
    {
      "cell_type": "markdown",
      "metadata": {
        "id": "view-in-github",
        "colab_type": "text"
      },
      "source": [
        "<a href=\"https://colab.research.google.com/github/notama958/Algorithm-learning-path/blob/main/DiceGame.ipynb\" target=\"_parent\"><img src=\"https://colab.research.google.com/assets/colab-badge.svg\" alt=\"Open In Colab\"/></a>"
      ]
    },
    {
      "cell_type": "code",
      "execution_count": 1,
      "metadata": {
        "id": "nEvFuQJckEBG"
      },
      "outputs": [],
      "source": []
    },
    {
      "cell_type": "markdown",
      "source": [
        "\"\"\"\n",
        "Implement a function that takes a list of dices (possibly more than three) and returns a strategy. The strategy is a dictionary:\n",
        "\n",
        "If, after analyzing the given list of dices, you decide to choose a dice first, set strategy[\"choose_first\"] to True and set strategy[\"first_dice\"] to be the (0-based) index of the dice you would like to choose\n",
        "\n",
        "If you would like to be the second one to choose a dice, set strategy[\"choose_first\"] to False. Then, specify, for each dice that your opponent may take, the dice that you would take in return. Namely, for each i from 0 to len(dices)-1, set strategy[i] to an index j of the dice that you would take if the opponent takes the i-th dice first.\n",
        "\n",
        "Use the following datasets for debugging:\n",
        "\n",
        "Sample 1\n",
        "\n",
        "Input: [[1, 1, 4, 6, 7, 8], [2, 2, 2, 6, 7, 7], [3, 3, 3, 5, 5, 8]]\n",
        "\n",
        "Output: {'choose_first': False, 0: 1, 1: 2, 2: 0}\n",
        "\n",
        "Sample 2\n",
        "\n",
        "Input: [[4, 4, 4, 4, 0, 0], [7, 7, 3, 3, 3, 3], [6, 6, 2, 2, 2, 2], [5, 5, 5, 1, 1, 1]]\n",
        "\n",
        "Output: {'choose_first': True, 'first_dice': 1}\n",
        "\"\"\""
      ],
      "metadata": {
        "id": "E5jo8WIKkJCx"
      }
    },
    {
      "cell_type": "code",
      "source": [
        "def count_wins(dice1, dice2):\n",
        "    assert len(dice1) == 6 and len(dice2) == 6\n",
        "    dice1_wins, dice2_wins = 0, 0\n",
        "    for num1 in dice1:\n",
        "        for num2 in dice2:\n",
        "            if num1 > num2:\n",
        "                dice1_wins +=1\n",
        "            elif num1 < num2:\n",
        "                dice2_wins +=1\n",
        "    return (dice1_wins, dice2_wins)\n",
        "\n",
        "def find_the_best_dice(dices):\n",
        "    assert all(len(dice) == 6 for dice in dices)\n",
        "    result = [ 0 for _ in range(len(dices))]\n",
        "    result2 = [[] for _ in range(len(dices))]\n",
        "\n",
        "    win = 0\n",
        "    for i in range(len(dices)):\n",
        "        for j in range(i + 1, len(dices)):\n",
        "            win_dice1 , win_dice2 = count_wins(dices[i], dices[j])\n",
        "            if win_dice1 > win_dice2:\n",
        "                result[i] += 1\n",
        "                result2[j].append(i)\n",
        "            elif win_dice1 < win_dice2:\n",
        "                result[j] += 1\n",
        "                result2[i].append(j)\n",
        "    max_value = max(result)\n",
        "    max_count = result.count(max_value)\n",
        "    # print(result)\n",
        "    # print(result2)\n",
        "    if max_count == 1 and max_value == len(dices) - 1 :\n",
        "        max_index = result.index(max_value)\n",
        "        return max_index, result2\n",
        "    else:\n",
        "        return -1, result2\n",
        "\n",
        "def compute_strategy(dices):\n",
        "    assert all(len(dice) == 6 for dice in dices)\n",
        "\n",
        "    strategy = dict()\n",
        "    strategy[\"choose_first\"] = True\n",
        "    strategy[\"first_dice\"] = 0\n",
        "    max_index, result = find_the_best_dice( dices )\n",
        "    if max_index == -1:\n",
        "        strategy[\"choose_first\"] = False\n",
        "        for i in range( 0 , len(result)):\n",
        "            strategy.pop('first_dice', None)\n",
        "            strategy[i] = result[i][0]\n",
        "    else:\n",
        "        strategy[\"first_dice\"] = max_index\n",
        "    return strategy\n",
        "\n",
        "print(compute_strategy([[1, 1, 4, 6, 7, 8], [2, 2, 2, 6, 7, 7], [3, 3, 3, 5, 5, 8]]))\n",
        "print(compute_strategy(\n",
        "    [[4, 4, 4, 4, 0, 0], [7, 7, 3, 3, 3, 3], [6, 6, 2, 2, 2, 2], [5, 5, 5, 1, 1, 1]]\n",
        "    ))"
      ],
      "metadata": {
        "colab": {
          "base_uri": "https://localhost:8080/"
        },
        "id": "4ptHxUukkKts",
        "outputId": "675ddd1e-f14d-42f1-9583-c9c0c52332f1"
      },
      "execution_count": 1,
      "outputs": [
        {
          "output_type": "stream",
          "name": "stdout",
          "text": [
            "{'choose_first': False, 0: 1, 1: 2, 2: 0}\n",
            "{'choose_first': True, 'first_dice': 1}\n"
          ]
        }
      ]
    }
  ]
}